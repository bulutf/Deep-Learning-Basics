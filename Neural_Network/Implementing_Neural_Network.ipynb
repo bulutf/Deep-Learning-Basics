{
 "cells": [
  {
   "cell_type": "code",
   "execution_count": 1,
   "metadata": {},
   "outputs": [],
   "source": [
    "import numpy as np\n",
    "import matplotlib.pyplot as plt\n",
    "import random\n",
    "import copy"
   ]
  },
  {
   "cell_type": "code",
   "execution_count": 2,
   "metadata": {},
   "outputs": [
    {
     "name": "stdout",
     "output_type": "stream",
     "text": [
      "[0.549834   0.62245933 0.57444252 0.68997448]\n"
     ]
    }
   ],
   "source": [
    "def sigmoid(x):\n",
    "\n",
    "    for i in range(len(x)):\n",
    " \n",
    "        x[i]=1/(1+np.exp(-x[i]))\n",
    "  \n",
    "    return x\n",
    "\n",
    "# Example for Problem 1\n",
    "x = np.array([0.2,0.5,0.3,0.8])\n",
    "print(sigmoid(x))"
   ]
  },
  {
   "cell_type": "code",
   "execution_count": 3,
   "metadata": {},
   "outputs": [
    {
     "name": "stdout",
     "output_type": "stream",
     "text": [
      "[0.24751657 0.23500371 0.24445831 0.2139097 ]\n"
     ]
    }
   ],
   "source": [
    "def sigmoid_prime(x):\n",
    "\n",
    "    for i in range(len(x)):\n",
    "     \n",
    "        x[i]=1/(1+np.exp(-x[i]))\n",
    "        x[i] = x[i] * (1 - x[i])\n",
    "\n",
    "    return x\n",
    "\n",
    "# Example for Problem 2\n",
    "x = np.array([0.2,0.5,0.3,0.8])\n",
    "print(sigmoid_prime(x))"
   ]
  },
  {
   "cell_type": "code",
   "execution_count": 4,
   "metadata": {},
   "outputs": [
    {
     "name": "stdout",
     "output_type": "stream",
     "text": [
      "[(2, 3), (3, 2), (2, 1)]\n",
      "[(3,), (2,), (1,)]\n"
     ]
    }
   ],
   "source": [
    "def init_weights(nodes, n_features):\n",
    "    weights=[]\n",
    "    bias=[]\n",
    "    \n",
    "    weights.append(np.empty(shape=(n_features,nodes[0]), dtype='object'))\n",
    "    \n",
    "    for i in range(len(nodes)-1):\n",
    "        \n",
    "        weights.append(np.empty(shape=(nodes[i],nodes[i+1]), dtype='object'))\n",
    "    \n",
    "    for i in range(len(weights)):\n",
    "        for y in range(len(weights[i])):\n",
    "            if len(weights[i][y])==1:\n",
    "                weights[i][y]=1\n",
    "            else:\n",
    "                weights[i][y]=np.random.dirichlet(np.ones(len(weights[i][y])),size=1)\n",
    "            \n",
    "    for i in range(len(nodes)):\n",
    "        bias.append(np.empty(shape=(nodes[i],), dtype='object'))\n",
    "\n",
    "    for i in range(len(bias)):\n",
    "        \n",
    "        x=np.random.dirichlet(np.ones(len(bias[i])),size=1)\n",
    "        bias[i]=x[0]\n",
    "        \n",
    "    return(weights,bias)\n",
    "\n",
    "# Example for Problem 3\n",
    "# For example for the following example I have three and two neurons for the hidden layers and one neuron for the output layer.\n",
    "# The input has 2 features.\n",
    "\n",
    "weights,bias = init_weights((3,2,1),2)\n",
    "print(list(map(np.shape,weights)))\n",
    "print(list(map(np.shape,bias)))"
   ]
  },
  {
   "cell_type": "code",
   "execution_count": 5,
   "metadata": {},
   "outputs": [
    {
     "name": "stdout",
     "output_type": "stream",
     "text": [
      "[[0.91409092]]\n",
      "[array([[0.63413559, 0.63413559, 0.73105858]]), array([[0.7538248 , 0.71985871]]), array([[0.91409092]])]\n",
      "[array([[0.55, 0.55, 1.  ]]), array([[1.1191165 , 0.94376087]]), array([[0.91409092]])]\n"
     ]
    }
   ],
   "source": [
    "def feed_forward(X,weights,bias):\n",
    "    \n",
    "\n",
    "\n",
    "    a_list=[]\n",
    "    z_list=[]\n",
    "    X_row,X_column=X.shape\n",
    "    X_row\n",
    "    y_pred = np.empty((X_row, 1))\n",
    "    y_pred    \n",
    "    for l in range(len(y_pred)):\n",
    "\n",
    "        y_pred[l].fill(0)\n",
    "\n",
    "    #point iterator\n",
    "    for p in range(len(X)):\n",
    "        W=np.array([X[p]])\n",
    "        # layer iterator\n",
    "        for x in range(len(weights)):\n",
    "\n",
    "            output_of_node=np.zeros(shape=(1,len(weights[x][0])))\n",
    "            input_of_node=np.zeros(shape=(1,len(weights[x][0])))\n",
    "            input=np.zeros(shape=(1,len(weights[x][0])))\n",
    "\n",
    "            # output neurons iterator\n",
    "            for y in range(len(weights[x][0])):\n",
    "\n",
    "                #input neurons iterator\n",
    "                for z in range(len(W[0])):\n",
    "                    input_of_node[0][y]=input_of_node[0][y]+W[0][z]*weights[x][z][y]\n",
    "\n",
    "                if x==len(weights)-1:\n",
    "                    input[0][y]=input_of_node[0][y]+bias[x][y]\n",
    "                    output_of_node[0][y]=input_of_node[0][y]+bias[x][y]\n",
    "\n",
    "                else:\n",
    "                    input[0][y]=input_of_node[0][y]+bias[x][y]\n",
    "                    output_of_node[0][y]=1/(1+np.exp(-(input_of_node[0][y]+bias[x][y])))\n",
    "\n",
    "            z_list.append(input)\n",
    "            a_list.append(output_of_node)\n",
    "            W=output_of_node\n",
    "        y_pred[p]=a_list[-1]\n",
    "\n",
    "    return (y_pred,a_list,z_list)\n",
    "\n",
    "# Example for Problem 4\n",
    "\n",
    "X = np.array([[0.5,0.5]])\n",
    "weights = [np.array([[0.2,0.4,0.6],[0.1,0.3,0.4]]),np.array([[0.2,0.3],[0.4,0.8],[0.6,0.2]]),np.array([[0.3],[0.4]])]\n",
    "bias = [np.array([0.4,0.2,0.5]),np.array([0.3,0.1]),np.array([0.4])]\n",
    "\n",
    "ypred, a_list, z_list = feed_forward(X,weights,bias)\n",
    "\n",
    "print(ypred)\n",
    "print(a_list)\n",
    "print(z_list)"
   ]
  },
  {
   "cell_type": "code",
   "execution_count": 6,
   "metadata": {},
   "outputs": [
    {
     "name": "stdout",
     "output_type": "stream",
     "text": [
      "[array([[-0.00035213, -0.00086504, -0.00041835],\n",
      "       [-0.00035213, -0.00086504, -0.00041835]]), array([[-0.00303289, -0.00439446],\n",
      "       [-0.00303289, -0.00439446],\n",
      "       [-0.00349645, -0.00506612]]), array([[-0.06476039],\n",
      "       [-0.0618424 ]])]\n",
      "[array([-0.00070426, -0.00173007, -0.0008367 ]), array([-0.00478272, -0.00692984]), array([-0.08590908])]\n"
     ]
    }
   ],
   "source": [
    "def backpropagate(X,o,a,z,weights,bias):\n",
    "\n",
    "    error_term=copy.deepcopy(bias)\n",
    "    for p in range(len(error_term)):\n",
    "\n",
    "        error_term[p].fill(0)\n",
    "    \n",
    "    der_weights=copy.deepcopy(weights)\n",
    "    for p in range(len(der_weights)):\n",
    "\n",
    "        der_weights[p].fill(0)\n",
    "\n",
    "    for x in range(len(weights)-1,-1,-1):\n",
    "\n",
    "\n",
    "        #input neurons iterator\n",
    "        for y in range(len(a[x][0])):\n",
    "\n",
    "            #calculating error term\n",
    "\n",
    "            if x==len(weights)-1:\n",
    "                \n",
    "                for i in range(len(ypred[0])):\n",
    "                    error_term[x][y]=ypred[0][i]-o[0][0]\n",
    "\n",
    "\n",
    "            else:\n",
    "\n",
    "                for b in range(len(error_term[x+1])):\n",
    "                    error_term[x][y]=error_term[x][y]+error_term[x+1][b]*weights[x+1][y][b]*((1/(1+np.exp(z[x][0][y])))*(1-(1/(1+np.exp(z[x][0][y])))))\n",
    "\n",
    "            #calculating weight derivatives\n",
    "            for t in range(len(weights[x])):\n",
    "                if x>0:\n",
    "                    der_weights[x][t][y]=error_term[x][y]*a[x-1][0][t]\n",
    "                else:\n",
    "                    der_weights[x][t][y]=error_term[x][y]*X[0][t]\n",
    "                \n",
    "\n",
    "    return(der_weights,error_term)\n",
    "\n",
    "X = np.array([[0.5,0.5]])\n",
    "weights = [np.array([[0.2,0.4,0.6],[0.1,0.3,0.4]]),np.array([[0.2,0.3],[0.4,0.8],[0.6,0.2]]),np.array([[0.3],[0.4]])]\n",
    "bias = [np.array([0.4,0.2,0.5]),np.array([0.3,0.1]),np.array([0.4])]\n",
    "y = np.array([[1.0]])\n",
    "\n",
    "ypred, a_list, z_list = feed_forward(X,weights,bias)\n",
    "dWeight, dBias = backpropagate(X,y,a_list,z_list,weights,bias)\n",
    "print(dWeight)\n",
    "print(dBias)"
   ]
  },
  {
   "cell_type": "code",
   "execution_count": 7,
   "metadata": {},
   "outputs": [
    {
     "name": "stdout",
     "output_type": "stream",
     "text": [
      "[array([[0.20003521, 0.4000865 , 0.60004184],\n",
      "       [0.10003521, 0.3000865 , 0.40004184]]), array([[0.20030329, 0.30043945],\n",
      "       [0.40030329, 0.80043945],\n",
      "       [0.60034964, 0.20050661]]), array([[0.30647604],\n",
      "       [0.40618424]])]\n",
      "[array([0.40007043, 0.20017301, 0.50008367]), array([0.30047827, 0.10069298]), array([0.40859091])]\n"
     ]
    }
   ],
   "source": [
    "def update_weights(weights,bias,dWeight,dBias,alpha):\n",
    "    \n",
    "    for x in range(len(weights)):\n",
    "        for y in range(len(weights[x])):\n",
    "            for z in range(len(weights[x][y])):\n",
    "                weights[x][y][z]=weights[x][y][z]-dWeight[x][y][z]*alpha\n",
    "                \n",
    "    for x in range(len(bias)):\n",
    "        for y in range(len(bias[x])):\n",
    "                bias[x][y]=bias[x][y]-dBias[x][y]*alpha\n",
    "                \n",
    "    return(weights,bias)\n",
    "\n",
    "# Example for Problem 6\n",
    "\n",
    "X = np.array([[0.5,0.5]])\n",
    "weights = [np.array([[0.2,0.4,0.6],[0.1,0.3,0.4]]),np.array([[0.2,0.3],[0.4,0.8],[0.6,0.2]]),np.array([[0.3],[0.4]])]\n",
    "bias = [np.array([0.4,0.2,0.5]),np.array([0.3,0.1]),np.array([0.4])]\n",
    "y = np.array([[1.0]])\n",
    "\n",
    "alpha = 0.1\n",
    "\n",
    "ypred, a_list, z_list = feed_forward(X,weights,bias)\n",
    "dWeight, dBias = backpropagate(X,y,a_list,z_list,weights,bias)\n",
    "weights,bias = update_weights(weights,bias,dWeight,dBias,alpha)\n",
    "print(weights)\n",
    "print(bias)"
   ]
  },
  {
   "cell_type": "code",
   "execution_count": 8,
   "metadata": {},
   "outputs": [
    {
     "data": {
      "image/png": "[encoded data removed]",
      "text/plain": [
       "<Figure size 432x288 with 1 Axes>"
      ]
     },
     "metadata": {
      "needs_background": "light"
     },
     "output_type": "display_data"
    }
   ],
   "source": [
    "x = np.linspace(-3,3,100)\n",
    "t = np.random.randn(x.size)*0.1\n",
    "y = np.sin(np.pi*x/2) + t\n",
    "y = y.reshape(-1,1)\n",
    "plt.plot(x,y)\n",
    "#X = np.c_[x,t]\n",
    "X = x.reshape(-1,1)\n",
    "N = x.size"
   ]
  },
  {
   "cell_type": "code",
   "execution_count": 9,
   "metadata": {},
   "outputs": [
    {
     "data": {
      "text/plain": [
       "[<matplotlib.lines.Line2D at 0x27965d4c430>]"
      ]
     },
     "execution_count": 9,
     "metadata": {},
     "output_type": "execute_result"
    },
    {
     "data": {
      "image/png": "[encoded data removed]",
      "text/plain": [
       "<Figure size 432x288 with 1 Axes>"
      ]
     },
     "metadata": {
      "needs_background": "light"
     },
     "output_type": "display_data"
    }
   ],
   "source": [
    "weights,bias = init_weights((10,1),X.shape[1])\n",
    "\n",
    "error = []\n",
    "for i in range(10000):\n",
    "    ypred,a,z = feed_forward(X,weights,bias)\n",
    "    error.append(np.mean((y-ypred)**2))\n",
    "    dWeight, dBias = backpropagate(X,y,a,z,weights,bias)\n",
    "    weigts, bias = update_weights(weights,bias,dWeight,dBias,0.5)\n",
    "    \n",
    "#plt.plot(error)\n",
    "#plt.figure()\n",
    "plt.plot(x,y)\n",
    "plt.plot(x,ypred,\"r\")"
   ]
  }
 ],
 "metadata": {
  "kernelspec": {
   "display_name": "Python 3",
   "language": "python",
   "name": "python3"
  },
  "language_info": {
   "codemirror_mode": {
    "name": "ipython",
    "version": 3
   },
   "file_extension": ".py",
   "mimetype": "text/x-python",
   "name": "python",
   "nbconvert_exporter": "python",
   "pygments_lexer": "ipython3",
   "version": "3.8.5"
  }
 },
 "nbformat": 4,
 "nbformat_minor": 4
}
